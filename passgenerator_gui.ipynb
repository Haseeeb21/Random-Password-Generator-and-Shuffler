{
  "nbformat": 4,
  "nbformat_minor": 0,
  "metadata": {
    "colab": {
      "provenance": []
    },
    "kernelspec": {
      "name": "python3",
      "display_name": "Python 3"
    },
    "language_info": {
      "name": "python"
    }
  },
  "cells": [
    {
      "cell_type": "code",
      "source": [
        "        # Importing libraries\n",
        "\n",
        "import tkinter as tk\n",
        "import secrets as sc   # For generating strong random numbers\n",
        "import string          # String functions / manipulations\n",
        "import pyperclip       # For copying and pasting text to the clipboard\n",
        "\n",
        "     # Creating class\n",
        "\n",
        "class PasswordGenerator:\n",
        "    def __init__(self):\n",
        "        self.root = tk.Tk()\n",
        "        self.root.title(\"Password Generator\")\n",
        "\n",
        "        # Create the main frame\n",
        "        self.frame = tk.Frame(self.root, padx=200, pady=40)\n",
        "        self.frame.pack()\n",
        "\n",
        "        # Label and input for the password length from user\n",
        "        self.length_label = tk.Label(self.frame, text=\"Enter Password Length:\")\n",
        "        self.length_label.pack()\n",
        "        self.length_entry = tk.Entry(self.frame)\n",
        "        self.length_entry.pack()\n",
        "\n",
        "        # Button to generate the password\n",
        "        self.generate_button = tk.Button(self.frame, text=\"Generate Password\", command=self.generate_password)\n",
        "        self.generate_button.pack(pady=10)\n",
        "\n",
        "        # Label to display the generated password\n",
        "        self.password_label = tk.Label(self.frame, text=\"\")\n",
        "        self.password_label.pack()\n",
        "\n",
        "        # Button to copy the password to the clipboard\n",
        "        self.copy_button = tk.Button(self.frame, text=\"Copy Password\", command=self.copy)\n",
        "        self.copy_button.pack(pady=20)\n",
        "\n",
        "        label = tk.Label(self.frame, text=f\"Password Contains\\n\"\n",
        "                                          f\"\\nAlphabets  =>       {string.ascii_letters}\"\n",
        "                                          f\"\\nNumbers   =>                                \"\n",
        "                                          f\"                            \"\n",
        "                                          f\"                                            {string.digits}\"\n",
        "                                          f\"\\nPunctuations  =>                     \"\n",
        "                                          f\"                                      {string.punctuation}\")\n",
        "        label.pack()\n",
        "\n",
        "        # Starting main loop\n",
        "        self.root.mainloop()\n",
        "\n",
        "    def generate_password(self):     # Generation function\n",
        "        # Get the password length from the user\n",
        "        n = int(self.length_entry.get())\n",
        "\n",
        "        # Generation of password\n",
        "        letters = string.ascii_letters + string.digits + string.punctuation\n",
        "        password = ''.join(sc.choice(letters) for i in range(n))\n",
        "\n",
        "        # Update the password label\n",
        "        self.password_label.config(text=\"Generated Password: \" + password)\n",
        "\n",
        "        # Saving generated password to variable for copying\n",
        "        self.generated_password = password\n",
        "\n",
        "    def copy(self):       # Copy function\n",
        "        # Copies the generated password to clipboard\n",
        "        pyperclip.copy(self.generated_password)\n",
        "\n",
        "\n",
        "gui = PasswordGenerator()   # Creating object\n"
      ],
      "metadata": {
        "id": "-xacEk-bN9r8"
      },
      "execution_count": null,
      "outputs": []
    }
  ]
}