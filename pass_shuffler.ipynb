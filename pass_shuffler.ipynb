{
  "nbformat": 4,
  "nbformat_minor": 0,
  "metadata": {
    "colab": {
      "provenance": []
    },
    "kernelspec": {
      "name": "python3",
      "display_name": "Python 3"
    },
    "language_info": {
      "name": "python"
    }
  },
  "cells": [
    {
      "cell_type": "code",
      "execution_count": 1,
      "metadata": {
        "colab": {
          "base_uri": "https://localhost:8080/"
        },
        "id": "LzOoiFPWJfxg",
        "outputId": "611ca5a9-588b-4278-f3a3-6af1d18a920b"
      },
      "outputs": [
        {
          "output_type": "stream",
          "name": "stdout",
          "text": [
            "Enter the Password: Pakistan_1947\n",
            "How many times do you want to shuffle: 5\n",
            "\n",
            "    Generating Shuffled Passwords\n",
            "\n",
            "Shuffled Password 1 : 14t_9asPkai7n\n",
            "Shuffled Password 2 : _i4an1Ps97akt\n",
            "Shuffled Password 3 : k4a_17n9Ptasi\n",
            "Shuffled Password 4 : t4_17sa9iPkan\n",
            "Shuffled Password 5 : Pi_1na479astk\n"
          ]
        }
      ],
      "source": [
        "import random\n",
        "\n",
        "string = input(\"Enter the Password: \")\n",
        "n = int(input(\"How many times do you want to shuffle: \"))\n",
        "\n",
        "letters = list(string)      # Creates the list of string\n",
        "# print(letters)    # Prints the list\n",
        "\n",
        "print(\"\\n    Generating Shuffled Passwords\\n\")\n",
        "\n",
        "for i in range(n):\n",
        "\n",
        "    random.shuffle(letters)     # Shuffles the list\n",
        "    rand_pass = ''.join(letters)\n",
        "\n",
        "    print(f\"Shuffled Password {i+1} :\", rand_pass)\n",
        "\n"
      ]
    }
  ]
}